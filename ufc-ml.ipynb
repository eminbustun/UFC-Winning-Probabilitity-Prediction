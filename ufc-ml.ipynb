{
 "cells": [
  {
   "cell_type": "code",
   "execution_count": 18,
   "metadata": {},
   "outputs": [],
   "source": [
    "import pymongo\n",
    "import pandas as pd\n",
    "import configparser\n",
    "import numpy as np\n",
    "from sklearn.model_selection import train_test_split"
   ]
  },
  {
   "cell_type": "code",
   "execution_count": 48,
   "metadata": {},
   "outputs": [
    {
     "name": "stdout",
     "output_type": "stream",
     "text": [
      "                        _id        fighter_id               name height   \n",
      "0  65bca6129cbb33544c215b51  0c277f3ff66b0208     Virgil Zwicker  6' 2\"  \\\n",
      "1  65bca6129cbb33544c215b53  1291dd6b8ab4d952      George Zuniga  5' 9\"   \n",
      "2  65bca6129cbb33544c215b52  523af801b3429015       Allan Zuniga  5' 7\"   \n",
      "3  65bca6129cbb33544c215b56  e7bc606d269896aa  Osamu Tachihikari  6' 5\"   \n",
      "4  65bca6129cbb33544c215b57  94426bb170c88115       Sodiq Yusuff  5' 9\"   \n",
      "\n",
      "     weight reach           dob  n_win  n_loss  n_draw  sig_str_land_pM   \n",
      "0  205 lbs.   74\"  Jun 26, 1982     15       6       1             3.34  \\\n",
      "1  185 lbs.    --            --      3       1       0             7.64   \n",
      "2  155 lbs.   70\"  Apr 04, 1992     13       1       0             3.93   \n",
      "3  300 lbs.    --            --      0       4       0             0.00   \n",
      "4  145 lbs.   71\"  May 19, 1993     13       3       0             5.72   \n",
      "\n",
      "   sig_str_land_pct  sig_str_abs_pM  sig_str_def_pct  td_avg  td_land_pct   \n",
      "0              0.48            4.87             0.39    1.31          0.3  \\\n",
      "1              0.38            5.45             0.37    0.00          0.0   \n",
      "2              0.52            1.80             0.61    0.00          0.0   \n",
      "3              0.00            0.00             0.00    0.00          0.0   \n",
      "4              0.49            4.33             0.54    0.28          0.2   \n",
      "\n",
      "   td_def_pct  sub_avg  __v    stance  \n",
      "0        0.50      0.0    0       NaN  \n",
      "1        1.00      0.0    0       NaN  \n",
      "2        0.57      1.0    0  Orthodox  \n",
      "3        0.00      0.0    0  Orthodox  \n",
      "4        0.62      0.4    0  Orthodox  \n"
     ]
    }
   ],
   "source": [
    "config = configparser.ConfigParser()\n",
    "config.read('config.ini')\n",
    "db_connection_string = config.get('database', 'connection_string')\n",
    "client = pymongo.MongoClient(db_connection_string)\n",
    "\n",
    "db = client['ufcv2']\n",
    "collection = db['fighters']\n",
    "\n",
    "cursor = collection.find({})\n",
    "df = pd.DataFrame(list(cursor))\n",
    "print(df.head())\n",
    "\n"
   ]
  },
  {
   "cell_type": "code",
   "execution_count": 51,
   "metadata": {},
   "outputs": [
    {
     "name": "stdout",
     "output_type": "stream",
     "text": [
      "                        _id        fighter_id               name height   \n",
      "0  65bca6129cbb33544c215b51  0c277f3ff66b0208     Virgil Zwicker  6' 2\"  \\\n",
      "1  65bca6129cbb33544c215b53  1291dd6b8ab4d952      George Zuniga  5' 9\"   \n",
      "2  65bca6129cbb33544c215b52  523af801b3429015       Allan Zuniga  5' 7\"   \n",
      "3  65bca6129cbb33544c215b56  e7bc606d269896aa  Osamu Tachihikari  6' 5\"   \n",
      "4  65bca6129cbb33544c215b57  94426bb170c88115       Sodiq Yusuff  5' 9\"   \n",
      "\n",
      "     weight reach           dob  n_win  n_loss  n_draw  sig_str_land_pM   \n",
      "0  205 lbs.   74\"  Jun 26, 1982     15       6       1             3.34  \\\n",
      "1  185 lbs.    --            --      3       1       0             7.64   \n",
      "2  155 lbs.   70\"  Apr 04, 1992     13       1       0             3.93   \n",
      "3  300 lbs.    --            --      0       4       0             0.00   \n",
      "4  145 lbs.   71\"  May 19, 1993     13       3       0             5.72   \n",
      "\n",
      "   sig_str_land_pct  sig_str_abs_pM  sig_str_def_pct  td_avg  td_land_pct   \n",
      "0              0.48            4.87             0.39    1.31          0.3  \\\n",
      "1              0.38            5.45             0.37    0.00          0.0   \n",
      "2              0.52            1.80             0.61    0.00          0.0   \n",
      "3              0.00            0.00             0.00    0.00          0.0   \n",
      "4              0.49            4.33             0.54    0.28          0.2   \n",
      "\n",
      "   td_def_pct  sub_avg  __v  stance  \n",
      "0        0.50      0.0    0       0  \n",
      "1        1.00      0.0    0       0  \n",
      "2        0.57      1.0    0       1  \n",
      "3        0.00      0.0    0       1  \n",
      "4        0.62      0.4    0       1  \n"
     ]
    }
   ],
   "source": [
    "# Turn the stance into label encoding for model to understands it.\n",
    "df['stance'] = df['stance'].replace('--', 'Unknown') # Replace empty stances with 'Unknown'\n",
    "df['stance'] = df['stance'].replace(np.nan, 'Unknown')\n",
    "stance_mapping = {'Orthodox': 1, 'Southpaw': 2, 'Switch': 3, 'Open Stance': 4, 'Sideways': 5, 'Square': 6, 'Unknown': 0}\n",
    "df['stance'] = df['stance'].map(stance_mapping)\n",
    "\n",
    "print(df.head())"
   ]
  },
  {
   "cell_type": "code",
   "execution_count": 52,
   "metadata": {},
   "outputs": [
    {
     "name": "stdout",
     "output_type": "stream",
     "text": [
      "                        _id        fighter_id               name height   \n",
      "0  65bca6129cbb33544c215b51  0c277f3ff66b0208     Virgil Zwicker  6' 2\"  \\\n",
      "1  65bca6129cbb33544c215b53  1291dd6b8ab4d952      George Zuniga  5' 9\"   \n",
      "2  65bca6129cbb33544c215b52  523af801b3429015       Allan Zuniga  5' 7\"   \n",
      "3  65bca6129cbb33544c215b56  e7bc606d269896aa  Osamu Tachihikari  6' 5\"   \n",
      "4  65bca6129cbb33544c215b57  94426bb170c88115       Sodiq Yusuff  5' 9\"   \n",
      "\n",
      "     weight  reach           dob  n_win  n_loss  n_draw  sig_str_land_pM   \n",
      "0  205 lbs.     74  Jun 26, 1982     15       6       1             3.34  \\\n",
      "1  185 lbs.     -1            --      3       1       0             7.64   \n",
      "2  155 lbs.     70  Apr 04, 1992     13       1       0             3.93   \n",
      "3  300 lbs.     -1            --      0       4       0             0.00   \n",
      "4  145 lbs.     71  May 19, 1993     13       3       0             5.72   \n",
      "\n",
      "   sig_str_land_pct  sig_str_abs_pM  sig_str_def_pct  td_avg  td_land_pct   \n",
      "0              0.48            4.87             0.39    1.31          0.3  \\\n",
      "1              0.38            5.45             0.37    0.00          0.0   \n",
      "2              0.52            1.80             0.61    0.00          0.0   \n",
      "3              0.00            0.00             0.00    0.00          0.0   \n",
      "4              0.49            4.33             0.54    0.28          0.2   \n",
      "\n",
      "   td_def_pct  sub_avg  __v  stance  \n",
      "0        0.50      0.0    0       0  \n",
      "1        1.00      0.0    0       0  \n",
      "2        0.57      1.0    0       1  \n",
      "3        0.00      0.0    0       1  \n",
      "4        0.62      0.4    0       1  \n"
     ]
    }
   ],
   "source": [
    "# Turn the reach into integer\n",
    "\n",
    "# Replace empty values in 'reach' with a placeholder (e.g., -1)\n",
    "df['reach'] = df['reach'].replace('--', np.nan).fillna(-1)\n",
    "\n",
    "# Convert 'reach' to integers, handling non-finite values\n",
    "df['reach'] = pd.to_numeric(df['reach'].str.replace('\"', ''), errors='coerce')\n",
    "\n",
    "# Replace non-finite values (NaN or inf) with another placeholder (e.g., -1)\n",
    "df['reach'] = df['reach'].replace([np.inf, -np.inf, np.nan], -1).astype(int)\n",
    "\n",
    "print(df.head())"
   ]
  },
  {
   "cell_type": "code",
   "execution_count": 53,
   "metadata": {},
   "outputs": [
    {
     "name": "stdout",
     "output_type": "stream",
     "text": [
      "                name  reach  n_win  n_loss  n_draw  sig_str_land_pM   \n",
      "0     Virgil Zwicker     74     15       6       1             3.34  \\\n",
      "1      George Zuniga     -1      3       1       0             7.64   \n",
      "2       Allan Zuniga     70     13       1       0             3.93   \n",
      "3  Osamu Tachihikari     -1      0       4       0             0.00   \n",
      "4       Sodiq Yusuff     71     13       3       0             5.72   \n",
      "\n",
      "   sig_str_land_pct  sig_str_abs_pM  sig_str_def_pct  td_avg  td_land_pct   \n",
      "0              0.48            4.87             0.39    1.31          0.3  \\\n",
      "1              0.38            5.45             0.37    0.00          0.0   \n",
      "2              0.52            1.80             0.61    0.00          0.0   \n",
      "3              0.00            0.00             0.00    0.00          0.0   \n",
      "4              0.49            4.33             0.54    0.28          0.2   \n",
      "\n",
      "   td_def_pct  sub_avg  __v  stance  \n",
      "0        0.50      0.0    0       0  \n",
      "1        1.00      0.0    0       0  \n",
      "2        0.57      1.0    0       1  \n",
      "3        0.00      0.0    0       1  \n",
      "4        0.62      0.4    0       1  \n"
     ]
    }
   ],
   "source": [
    "# Drop the columns that are not needed\n",
    "columns_to_drop = [\"_id\", \"fighter_id\", \"height\", \"weight\", \"dob\"]\n",
    "df = df.drop(columns_to_drop, axis=1)\n",
    "\n",
    "print(df.head())"
   ]
  },
  {
   "cell_type": "code",
   "execution_count": null,
   "metadata": {},
   "outputs": [],
   "source": []
  }
 ],
 "metadata": {
  "kernelspec": {
   "display_name": "Python 3",
   "language": "python",
   "name": "python3"
  },
  "language_info": {
   "codemirror_mode": {
    "name": "ipython",
    "version": 3
   },
   "file_extension": ".py",
   "mimetype": "text/x-python",
   "name": "python",
   "nbconvert_exporter": "python",
   "pygments_lexer": "ipython3",
   "version": "3.11.3"
  }
 },
 "nbformat": 4,
 "nbformat_minor": 2
}
